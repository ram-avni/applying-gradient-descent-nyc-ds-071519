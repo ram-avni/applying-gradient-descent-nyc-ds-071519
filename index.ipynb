{
 "cells": [
  {
   "cell_type": "markdown",
   "metadata": {},
   "source": [
    "## Applying gradient descent"
   ]
  },
  {
   "cell_type": "markdown",
   "metadata": {},
   "source": [
    "### Introduction"
   ]
  },
  {
   "cell_type": "markdown",
   "metadata": {},
   "source": [
    "In the last lesson, we derived the functions that we help us descend along our cost functions efficiently.  Remember that this technique is not so different from what we saw with using the derivative to tell us our next step size and direction in two dimensions.  "
   ]
  },
  {
   "cell_type": "markdown",
   "metadata": {},
   "source": [
    "![](./tangent-lines.png)"
   ]
  },
  {
   "cell_type": "markdown",
   "metadata": {},
   "source": [
    "When descending along our cost curve in two dimensions, we used the slope of the tangent line at each point, to tell us how large of a step to take next.  And with the our cost curve being a function of $m$ and $b$, we had to use the gradient to determine each step.  "
   ]
  },
  {
   "cell_type": "markdown",
   "metadata": {},
   "source": [
    "![](./gradientdescent.png)"
   ]
  },
  {
   "cell_type": "markdown",
   "metadata": {},
   "source": [
    "But really it's an analogous approach.  Just like we can calculate the use derivative of a function $f(x)$ to calculate the slope at a given value of $x$ on the graph, and thus our next step.  Here, we calculated the partial derivative with respect to both variables, our slope and y-intercept, to calculate the amount to move next in either direction, and thus to steer us towards our minimum.   "
   ]
  },
  {
   "cell_type": "markdown",
   "metadata": {},
   "source": [
    "### Reviewing our gradient descent formulas"
   ]
  },
  {
   "cell_type": "markdown",
   "metadata": {},
   "source": [
    "Luckily for us, we already did the hard work of deriving these formulas.  Now we get to see the fruit of our labor.  The following formulas tell us how to update regression variables of $m$ and $b$ to approach a \"best fit\" line.   "
   ]
  },
  {
   "cell_type": "markdown",
   "metadata": {},
   "source": [
    "* $ \\frac{dJ}{dm}J(m,b) = -2\\sum_{i = 1}^n x(y_i - (mx_i + b)) = -2\\sum_{i = 1}^n x_i*\\epsilon_i$ \n",
    "* $ \\frac{dJ}{db}J(m,b) = -2\\sum_{i = 1}^n(y_i - (mx_i + b)) = -2\\sum_{i = 1}^n \\epsilon_i $"
   ]
  },
  {
   "cell_type": "markdown",
   "metadata": {},
   "source": [
    "Now the formulas above tell us to take some dataset, with values of $x$ and $y$, and then given a regression formula with values $m$ and $b$, iterate through our dataset, and use the formulas to calculate an update to $m$ and $b$.  So ultimately, to descend along the cost function, we will use the calculations:\n",
    "\n",
    "`current_m` = `old_m` $ -  (-2*\\sum_{i=1}^n x_i*\\epsilon_i )$\n",
    "\n",
    "`current_b` =  `old_b` $ - ( -2*\\sum_{i=1}^n \\epsilon_i )$"
   ]
  },
  {
   "cell_type": "markdown",
   "metadata": {},
   "source": [
    "Ok let's turn this into code.  First, let's initialize some data."
   ]
  },
  {
   "cell_type": "code",
   "execution_count": 1,
   "metadata": {},
   "outputs": [],
   "source": [
    "# our data\n",
    "first_show = {'x': 30, 'y': 45}\n",
    "second_show = {'x': 40, 'y': 60}\n",
    "third_show = {'x': 100, 'y': 150}\n",
    "\n",
    "shows = [first_show, second_show, third_show]"
   ]
  },
  {
   "cell_type": "markdown",
   "metadata": {},
   "source": [
    "Now we set our initial regression line by initializing $m$ and $b$ variables as zero.  Then to calculate our next step to update our regression line, we iterate through each of the points in the dataset, and at each iteration change our `update_to_b` by $2*\\epsilon$ and change our `update_to_m` by $2*x*\\epsilon$."
   ]
  },
  {
   "cell_type": "code",
   "execution_count": 2,
   "metadata": {},
   "outputs": [],
   "source": [
    "# initial variables of our regression line\n",
    "b_current = 0\n",
    "m_current = 0\n",
    "\n",
    "#amount to update our variables for our next step\n",
    "update_to_b = 0\n",
    "update_to_m = 0 \n",
    "\n",
    "def error_at(point, b, m):\n",
    "    return (m*point['x'] + b - point['y'])\n",
    "\n",
    "for i in range(0, len(shows)):\n",
    "    update_to_b += -2*(error_at(shows[i], b_current, m_current))\n",
    "    update_to_m += -2*(error_at(shows[i], b_current, m_current)*shows[i]['x'])\n",
    "\n",
    "new_b = b_current - update_to_b\n",
    "new_m = m_current - update_to_m"
   ]
  },
  {
   "cell_type": "markdown",
   "metadata": {},
   "source": [
    "In the last two lines of the code above, we calculate our `new_b` and `new_m` values by updating our taking our current values and adding our respective updates.  We define a function called `error_at`, which we can use in the error component of our partial derivatives above."
   ]
  },
  {
   "cell_type": "markdown",
   "metadata": {},
   "source": [
    "The code above represents **just one** update to our regression line, and therefore just one step towards our best fit line.  We'll just repeat the process to take multiple steps.  But first we have to make a couple other changes. "
   ]
  },
  {
   "cell_type": "markdown",
   "metadata": {},
   "source": [
    "### Tweaking our approach "
   ]
  },
  {
   "cell_type": "markdown",
   "metadata": {},
   "source": [
    "Ok, the above code is very close to what we want, but we just need to make tweaks to our code before it's perfect.\n",
    "\n",
    "The first one is obvious if we think about what these formulas are really telling us to do.  Look at the graph below, and think about what it means to change each of our $m$ and $b$ variables by at least the sum of all of the errors, of the $y$ values that our regression line predicts and our actual data.  That would be an enormous change.  To ensure that we drastically updating our regression line with each step, we multiply each of these partial derivatives by a learning rate.  As we have seen before, the learning rate is just a small number, like $.0001$ which controls for how large our updates to the regression line will be.  The learning rate is  represented by the Greek letter eta, $\\eta$, or alpha $\\alpha$.  We'll use eta, so $\\eta = .0001$ means the learning rate is $.0001$.\n",
    "\n",
    "Multiplying our step size by our learning rate works fine, so long as we multiply both of the partial derivatives by the same amount.  This is because with out gradient,  $ \\nabla J(m,b)$, we think of as steering us in the correct direction.  In other words, our derivatives ensure we are make the correct **proportional** changes to $m$ and $b$.  So scaling down these changes to make sure we don't update our regression line too quickly works fine, so long as we keep me moving in the correct direction.  While were at it, we can also get rid of multiplying our partials by 2.  As mentioned, so long as our changes are proportional we're in good shape. "
   ]
  },
  {
   "cell_type": "markdown",
   "metadata": {},
   "source": [
    "![](./regression-scatter.png)"
   ]
  },
  {
   "cell_type": "markdown",
   "metadata": {},
   "source": [
    "For our second tweak, note that in general the larger the dataset, the larger the sum of our errors would be.  But that doesn't mean our formulas are less accurate, and there deserve larger changes.  It just means that the total error is larger.  But we should really think accuracy as being proportional to the size of our dataset.  We can correct for this effect by dividing the effect of our update by the size of our dataset, $n$.\n",
    "\n",
    "Making these changes, our formula looks like the following:"
   ]
  },
  {
   "cell_type": "code",
   "execution_count": 3,
   "metadata": {},
   "outputs": [],
   "source": [
    "#amount to update our variables for our next step\n",
    "update_to_b = 0\n",
    "update_to_m = 0 \n",
    "\n",
    "learning_rate = .0001\n",
    "n = len(shows)\n",
    "for i in range(0, n):\n",
    "    \n",
    "    update_to_b += -(1/n)*(error_at(shows[i], b_current, m_current))\n",
    "    update_to_m += -(1/n)*(error_at(shows[i], b_current, m_current)*shows[i]['x'])\n",
    "\n",
    "new_b = b_current - (learning_rate*update_to_b)\n",
    "new_m = m_current - (learning_rate*update_to_m)"
   ]
  },
  {
   "cell_type": "markdown",
   "metadata": {},
   "source": [
    "So our code now reflects what we know about our gradient descent process.  Start with an initial regression line with values of $m$ and $b$.  Then for each point, calculate how the regression line fares against the actual point (that is, find the error).  Update what our next step to the respective variable should be using by using the partial derivative.  And after iterating through all of the points, update the value of $b$ and $m$ appropriately, scaled down by a learning rate."
   ]
  },
  {
   "cell_type": "markdown",
   "metadata": {},
   "source": [
    "### Seeing our gradient descent formulas in action"
   ]
  },
  {
   "cell_type": "markdown",
   "metadata": {},
   "source": [
    "As mentioned earlier, the code above represents just one update to our regression line, and therefore just one step towards our best fit line.  To take multiple steps we wrap the process we want to duplicate in a function called `step_gradient` and then can call that function as much as we want. "
   ]
  },
  {
   "cell_type": "code",
   "execution_count": 4,
   "metadata": {},
   "outputs": [],
   "source": [
    "first_show = {'x': 30, 'y': 45}\n",
    "second_show = {'x': 40, 'y': 60}\n",
    "third_show = {'x': 100, 'y': 150}\n",
    "four_show = {'x': 50, 'y': 45}\n",
    "five_show = {'x': 80, 'y': 130}\n",
    "six_show = {'x': 70, 'y': 90}\n",
    "_7_show = {'x': 35, 'y': 60}\n",
    "_8_show = {'x': 75, 'y': 140}\n",
    "\n",
    "\n",
    "shows = [first_show, second_show, third_show, four_show, five_show, six_show, _7_show, _8_show]\n",
    "\n",
    "def step_gradient(b_current, m_current, points):\n",
    "    b_gradient = 0\n",
    "    m_gradient = 0\n",
    "    learning_rate = .0001\n",
    "    N = float(len(points))\n",
    "    for i in range(0, len(points)):\n",
    "        x = points[i]['x']\n",
    "        y = points[i]['y']\n",
    "        b_gradient += -(1/N) * (y - ((m_current * x) + b_current))\n",
    "        m_gradient += -(1/N) * x * (y - ((m_current * x) + b_current))\n",
    "    new_b = b_current - (learning_rate * b_gradient)\n",
    "    new_m = m_current - (learning_rate * m_gradient)\n",
    "    return {'b': new_b, 'm': new_m}"
   ]
  },
  {
   "cell_type": "code",
   "execution_count": 5,
   "metadata": {},
   "outputs": [
    {
     "data": {
      "text/plain": [
       "{'b': 0.009000000000000001, 'm': 0.62875}"
      ]
     },
     "execution_count": 5,
     "metadata": {},
     "output_type": "execute_result"
    }
   ],
   "source": [
    "b = 0\n",
    "m = 0\n",
    "\n",
    "step_gradient(b, m, shows) # {'b': 0.0085, 'm': 0.6249999999999999}"
   ]
  },
  {
   "cell_type": "markdown",
   "metadata": {},
   "source": [
    "So just looking at input and output, we begin by setting $b$ and $m$ to 0, 0.  Then from our step_gradient function, we receive new values of $b$ and $m$ of .0085 and .6245.  Now what we need to do, is take another step in the correct direction by calling our step gradient function with our updated values of $b$ and $m$."
   ]
  },
  {
   "cell_type": "code",
   "execution_count": 6,
   "metadata": {},
   "outputs": [
    {
     "data": {
      "text/plain": [
       "{'b': 0.01374975, 'm': 0.9946560625}"
      ]
     },
     "execution_count": 6,
     "metadata": {},
     "output_type": "execute_result"
    }
   ],
   "source": [
    "updated_b = 0.0085\n",
    "updated_m = 0.6249\n",
    "step_gradient(updated_b, updated_m, shows) # {'b': 0.01345805, 'm': 0.9894768333333332}"
   ]
  },
  {
   "cell_type": "markdown",
   "metadata": {},
   "source": [
    "Let's do this, say, 10 times."
   ]
  },
  {
   "cell_type": "code",
   "execution_count": 7,
   "metadata": {},
   "outputs": [],
   "source": [
    "# set our initial step with m and b values, and the corresponding error.\n",
    "b = 0\n",
    "m = 0\n",
    "iterations = []\n",
    "for i in range(10):\n",
    "    iteration = step_gradient(b, m, shows)\n",
    "    # {'b': value, 'm': value}\n",
    "    b = iteration['b']\n",
    "    m = iteration['m']\n",
    "    # update values of b and m\n",
    "    iterations.append(iteration)"
   ]
  },
  {
   "cell_type": "markdown",
   "metadata": {},
   "source": [
    "Let's take a look at these iterations."
   ]
  },
  {
   "cell_type": "code",
   "execution_count": 8,
   "metadata": {},
   "outputs": [
    {
     "data": {
      "text/plain": [
       "[{'b': 0.009000000000000001, 'm': 0.62875},\n",
       " {'b': 0.0142266, 'm': 0.9969077187500002},\n",
       " {'b': 0.0172437310275, 'm': 1.2124787231929688},\n",
       " {'b': 0.01896713431523944, 'm': 1.3387043898837174},\n",
       " {'b': 0.01993301126250561, 'm': 1.4126149555197607},\n",
       " {'b': 0.020455328228260797, 'm': 1.4558930352586847},\n",
       " {'b': 0.020717924483885864, 'm': 1.4812346268039978},\n",
       " {'b': 0.02082844493061349, 'm': 1.496073720775188},\n",
       " {'b': 0.020849919761469302, 'm': 1.5047632020593857},\n",
       " {'b': 0.020819255557136842, 'm': 1.509851850687459}]"
      ]
     },
     "execution_count": 8,
     "metadata": {},
     "output_type": "execute_result"
    }
   ],
   "source": [
    "iterations"
   ]
  },
  {
   "cell_type": "markdown",
   "metadata": {},
   "source": [
    "As you can see, our $m$ and $b$ values both update with each step.  Not only that, but with each step, the size of the changes to $m$ and $b$ decrease.  This is because they are approaching a best fit line."
   ]
  },
  {
   "cell_type": "markdown",
   "metadata": {},
   "source": [
    "###  Animating these changes"
   ]
  },
  {
   "cell_type": "markdown",
   "metadata": {},
   "source": [
    "We can use Plotly to see these changes to our regression line visually.  We'll write a method called `to_line` that takes a dictionary of $m$ and $b$ variables and changes it to produce a line object.  We can then see our line changes over time. "
   ]
  },
  {
   "cell_type": "code",
   "execution_count": 9,
   "metadata": {},
   "outputs": [
    {
     "data": {
      "text/plain": [
       "{'data': [{'x': [0, 100], 'y': [0.009000000000000001, 62.884]}]}"
      ]
     },
     "execution_count": 9,
     "metadata": {},
     "output_type": "execute_result"
    }
   ],
   "source": [
    "def to_line(m, b):\n",
    "    initial_x = 0\n",
    "    ending_x = 100\n",
    "    initial_y = m*initial_x + b\n",
    "    ending_y = m*ending_x + b\n",
    "    return {'data': [{'x': [initial_x, ending_x], 'y': [initial_y, ending_y]}]}\n",
    "\n",
    "frames = list(map(lambda iteration: to_line(iteration['m'], iteration['b']),iterations))\n",
    "frames[0]"
   ]
  },
  {
   "cell_type": "markdown",
   "metadata": {},
   "source": [
    "Now we can see how our regression line changes, and approaches our data, with each iteration."
   ]
  },
  {
   "cell_type": "code",
   "execution_count": 10,
   "metadata": {},
   "outputs": [
    {
     "data": {
      "text/html": [
       "<script>requirejs.config({paths: { 'plotly': ['https://cdn.plot.ly/plotly-latest.min']},});if(!window.Plotly) {{require(['plotly'],function(plotly) {window.Plotly=plotly;});}}</script>"
      ],
      "text/vnd.plotly.v1+html": [
       "<script>requirejs.config({paths: { 'plotly': ['https://cdn.plot.ly/plotly-latest.min']},});if(!window.Plotly) {{require(['plotly'],function(plotly) {window.Plotly=plotly;});}}</script>"
      ]
     },
     "metadata": {},
     "output_type": "display_data"
    },
    {
     "data": {
      "application/vnd.plotly.v1+json": {
       "data": [
        {
         "type": "scatter",
         "uid": "32edab90-a5b8-11e9-ae35-1be9340451fa",
         "x": [
          0
         ],
         "y": [
          0
         ]
        },
        {
         "mode": "markers",
         "type": "scatter",
         "uid": "32edae92-a5b8-11e9-ae35-1be9340451fa",
         "x": [
          30,
          40,
          100,
          50,
          80,
          70,
          35,
          75
         ],
         "y": [
          45,
          60,
          150,
          45,
          130,
          90,
          60,
          140
         ]
        }
       ],
       "frames": [
        {
         "data": [
          {
           "type": "scatter",
           "x": [
            0,
            100
           ],
           "y": [
            0.009000000000000001,
            62.884
           ]
          }
         ]
        },
        {
         "data": [
          {
           "type": "scatter",
           "x": [
            0,
            100
           ],
           "y": [
            0.0142266,
            99.70499847500002
           ]
          }
         ]
        },
        {
         "data": [
          {
           "type": "scatter",
           "x": [
            0,
            100
           ],
           "y": [
            0.0172437310275,
            121.26511605032438
           ]
          }
         ]
        },
        {
         "data": [
          {
           "type": "scatter",
           "x": [
            0,
            100
           ],
           "y": [
            0.01896713431523944,
            133.88940612268698
           ]
          }
         ]
        },
        {
         "data": [
          {
           "type": "scatter",
           "x": [
            0,
            100
           ],
           "y": [
            0.01993301126250561,
            141.28142856323856
           ]
          }
         ]
        },
        {
         "data": [
          {
           "type": "scatter",
           "x": [
            0,
            100
           ],
           "y": [
            0.020455328228260797,
            145.60975885409673
           ]
          }
         ]
        },
        {
         "data": [
          {
           "type": "scatter",
           "x": [
            0,
            100
           ],
           "y": [
            0.020717924483885864,
            148.14418060488364
           ]
          }
         ]
        },
        {
         "data": [
          {
           "type": "scatter",
           "x": [
            0,
            100
           ],
           "y": [
            0.02082844493061349,
            149.6282005224494
           ]
          }
         ]
        },
        {
         "data": [
          {
           "type": "scatter",
           "x": [
            0,
            100
           ],
           "y": [
            0.020849919761469302,
            150.49717012570005
           ]
          }
         ]
        },
        {
         "data": [
          {
           "type": "scatter",
           "x": [
            0,
            100
           ],
           "y": [
            0.020819255557136842,
            151.00600432430303
           ]
          }
         ]
        }
       ],
       "layout": {
        "title": "Regression Line",
        "updatemenus": [
         {
          "buttons": [
           {
            "args": [
             null
            ],
            "label": "Play",
            "method": "animate"
           }
          ],
          "type": "buttons"
         }
        ],
        "xaxis": {
         "autorange": false,
         "range": [
          0,
          110
         ]
        },
        "yaxis": {
         "autorange": false,
         "range": [
          0,
          160
         ]
        }
       }
      },
      "text/html": [
       "<div id=\"d241ba6a-1038-4847-b249-e6cd3ce6f158\" style=\"height: 525px; width: 100%;\" class=\"plotly-graph-div\"></div><script type=\"text/javascript\">require([\"plotly\"], function(Plotly) { window.PLOTLYENV=window.PLOTLYENV || {};window.PLOTLYENV.BASE_URL=\"https://plot.ly\";\n",
       "        Plotly.plot(\n",
       "            'd241ba6a-1038-4847-b249-e6cd3ce6f158',\n",
       "            [{\"x\": [0], \"y\": [0], \"type\": \"scatter\", \"uid\": \"33439500-a5b8-11e9-ae35-1be9340451fa\"}, {\"mode\": \"markers\", \"x\": [30, 40, 100, 50, 80, 70, 35, 75], \"y\": [45, 60, 150, 45, 130, 90, 60, 140], \"type\": \"scatter\", \"uid\": \"334396ea-a5b8-11e9-ae35-1be9340451fa\"}],\n",
       "            {\"title\": \"Regression Line\", \"updatemenus\": [{\"buttons\": [{\"args\": [null], \"label\": \"Play\", \"method\": \"animate\"}], \"type\": \"buttons\"}], \"xaxis\": {\"autorange\": false, \"range\": [0, 110]}, \"yaxis\": {\"autorange\": false, \"range\": [0, 160]}},\n",
       "            {\"showLink\": true, \"linkText\": \"Export to plot.ly\"}\n",
       "        ).then(function () {return Plotly.addFrames('d241ba6a-1038-4847-b249-e6cd3ce6f158',[{\"data\": [{\"x\": [0, 100], \"y\": [0.009000000000000001, 62.884], \"type\": \"scatter\"}]}, {\"data\": [{\"x\": [0, 100], \"y\": [0.0142266, 99.70499847500002], \"type\": \"scatter\"}]}, {\"data\": [{\"x\": [0, 100], \"y\": [0.0172437310275, 121.26511605032438], \"type\": \"scatter\"}]}, {\"data\": [{\"x\": [0, 100], \"y\": [0.01896713431523944, 133.88940612268698], \"type\": \"scatter\"}]}, {\"data\": [{\"x\": [0, 100], \"y\": [0.01993301126250561, 141.28142856323856], \"type\": \"scatter\"}]}, {\"data\": [{\"x\": [0, 100], \"y\": [0.020455328228260797, 145.60975885409673], \"type\": \"scatter\"}]}, {\"data\": [{\"x\": [0, 100], \"y\": [0.020717924483885864, 148.14418060488364], \"type\": \"scatter\"}]}, {\"data\": [{\"x\": [0, 100], \"y\": [0.02082844493061349, 149.6282005224494], \"type\": \"scatter\"}]}, {\"data\": [{\"x\": [0, 100], \"y\": [0.020849919761469302, 150.49717012570005], \"type\": \"scatter\"}]}, {\"data\": [{\"x\": [0, 100], \"y\": [0.020819255557136842, 151.00600432430303], \"type\": \"scatter\"}]}]);}).then(function(){Plotly.animate('d241ba6a-1038-4847-b249-e6cd3ce6f158');})\n",
       "        });</script>"
      ],
      "text/vnd.plotly.v1+html": [
       "<div id=\"d241ba6a-1038-4847-b249-e6cd3ce6f158\" style=\"height: 525px; width: 100%;\" class=\"plotly-graph-div\"></div><script type=\"text/javascript\">require([\"plotly\"], function(Plotly) { window.PLOTLYENV=window.PLOTLYENV || {};window.PLOTLYENV.BASE_URL=\"https://plot.ly\";\n",
       "        Plotly.plot(\n",
       "            'd241ba6a-1038-4847-b249-e6cd3ce6f158',\n",
       "            [{\"x\": [0], \"y\": [0], \"type\": \"scatter\", \"uid\": \"33439500-a5b8-11e9-ae35-1be9340451fa\"}, {\"mode\": \"markers\", \"x\": [30, 40, 100, 50, 80, 70, 35, 75], \"y\": [45, 60, 150, 45, 130, 90, 60, 140], \"type\": \"scatter\", \"uid\": \"334396ea-a5b8-11e9-ae35-1be9340451fa\"}],\n",
       "            {\"title\": \"Regression Line\", \"updatemenus\": [{\"buttons\": [{\"args\": [null], \"label\": \"Play\", \"method\": \"animate\"}], \"type\": \"buttons\"}], \"xaxis\": {\"autorange\": false, \"range\": [0, 110]}, \"yaxis\": {\"autorange\": false, \"range\": [0, 160]}},\n",
       "            {\"showLink\": true, \"linkText\": \"Export to plot.ly\"}\n",
       "        ).then(function () {return Plotly.addFrames('d241ba6a-1038-4847-b249-e6cd3ce6f158',[{\"data\": [{\"x\": [0, 100], \"y\": [0.009000000000000001, 62.884], \"type\": \"scatter\"}]}, {\"data\": [{\"x\": [0, 100], \"y\": [0.0142266, 99.70499847500002], \"type\": \"scatter\"}]}, {\"data\": [{\"x\": [0, 100], \"y\": [0.0172437310275, 121.26511605032438], \"type\": \"scatter\"}]}, {\"data\": [{\"x\": [0, 100], \"y\": [0.01896713431523944, 133.88940612268698], \"type\": \"scatter\"}]}, {\"data\": [{\"x\": [0, 100], \"y\": [0.01993301126250561, 141.28142856323856], \"type\": \"scatter\"}]}, {\"data\": [{\"x\": [0, 100], \"y\": [0.020455328228260797, 145.60975885409673], \"type\": \"scatter\"}]}, {\"data\": [{\"x\": [0, 100], \"y\": [0.020717924483885864, 148.14418060488364], \"type\": \"scatter\"}]}, {\"data\": [{\"x\": [0, 100], \"y\": [0.02082844493061349, 149.6282005224494], \"type\": \"scatter\"}]}, {\"data\": [{\"x\": [0, 100], \"y\": [0.020849919761469302, 150.49717012570005], \"type\": \"scatter\"}]}, {\"data\": [{\"x\": [0, 100], \"y\": [0.020819255557136842, 151.00600432430303], \"type\": \"scatter\"}]}]);}).then(function(){Plotly.animate('d241ba6a-1038-4847-b249-e6cd3ce6f158');})\n",
       "        });</script>"
      ]
     },
     "metadata": {},
     "output_type": "display_data"
    }
   ],
   "source": [
    "from plotly.offline import init_notebook_mode, iplot\n",
    "from IPython.display import display, HTML\n",
    "\n",
    "init_notebook_mode(connected=True)\n",
    "\n",
    "x_values_of_shows = list(map(lambda show: show['x'], shows))\n",
    "y_values_of_shows = list(map(lambda show: show['y'], shows))\n",
    "figure = {'data': [{'x': [0], 'y': [0]}, {'x': x_values_of_shows, 'y': y_values_of_shows, 'mode': 'markers'}],\n",
    "          'layout': {'xaxis': {'range': [0, 110], 'autorange': False},\n",
    "                     'yaxis': {'range': [0,160], 'autorange': False},\n",
    "                     'title': 'Regression Line',\n",
    "                     'updatemenus': [{'type': 'buttons',\n",
    "                                      'buttons': [{'label': 'Play',\n",
    "                                                   'method': 'animate',\n",
    "                                                   'args': [None]}]}]\n",
    "                    },\n",
    "          'frames': frames}\n",
    "iplot(figure)"
   ]
  },
  {
   "cell_type": "markdown",
   "metadata": {},
   "source": [
    "As you can see, our regression line starts off far away from our cost curve.  But it uses our `step_gradient` function to move closer to finding the line that produces the lowest error."
   ]
  },
  {
   "cell_type": "markdown",
   "metadata": {
    "collapsed": true
   },
   "source": [
    "### Summary"
   ]
  },
  {
   "cell_type": "markdown",
   "metadata": {
    "collapsed": true
   },
   "source": [
    "In this section, we saw our gradient descent formulas in action.  The core of the gradient descent functions are understanding the two lines: \n",
    "\n",
    "$$ \\frac{dJ}{dm}J(m,b) = -2\\sum_{i = 1}^n x(y_i - (mx_i + b)) = -2\\sum_{i = 1}^n x_i*\\epsilon_i$$\n",
    "$$ \\frac{dJ}{db}J(m,b) = -2\\sum_{i = 1}^n(y_i - (mx_i + b)) = -2\\sum_{i = 1}^n \\epsilon_i $$\n",
    "    \n",
    "Which both look to the errors of the current regression line for our dataset to determine how to update the regression line next.  These formulas came from our cost function, $J(m,b) = \\sum_{i = 1}^n(y_i - (mx_i + b))^2 $, and using the gradient to find the direction of steepest descent.  Translating this into code, and seeing how the regression line continued to improve in alignment with the data, we saw the effectiveness of this technique in practice.  "
   ]
  }
 ],
 "metadata": {
  "kernelspec": {
   "display_name": "Python 3",
   "language": "python",
   "name": "python3"
  },
  "language_info": {
   "codemirror_mode": {
    "name": "ipython",
    "version": 3
   },
   "file_extension": ".py",
   "mimetype": "text/x-python",
   "name": "python",
   "nbconvert_exporter": "python",
   "pygments_lexer": "ipython3",
   "version": "3.6.6"
  }
 },
 "nbformat": 4,
 "nbformat_minor": 2
}
